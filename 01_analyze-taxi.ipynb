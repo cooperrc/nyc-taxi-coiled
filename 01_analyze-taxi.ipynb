{
 "cells": [
  {
   "cell_type": "markdown",
   "id": "b9af8d4a-0b3a-4a44-99e2-78e26fbc957d",
   "metadata": {},
   "source": [
    "# Create descriptive statistics for NYC Yellow Cab data set\n",
    "\n",
    "In this notebook, "
   ]
  },
  {
   "cell_type": "markdown",
   "id": "28bcf7ef-544e-4352-b0ee-338027e9c08d",
   "metadata": {},
   "source": [
    "## Launch a cluster\n",
    "\n",
    "The first step is to spin up a Dask Cluster. In Coiled, this is done by creating a `coiled.Cluster` instance, there are [several keyword arguments](https://docs.coiled.io/user_guide/api.html#coiled.Cluster) you can use to specify the details of your cluster further. Please read the [cluster creation documentation](https://docs.coiled.io/user_guide/cluster_creation.html) to know more.\n",
    "\n",
    "Note that we will give a name to this cluster, if you don't specify this keyword argument, clusters will be given a unique randomly generated name."
   ]
  },
  {
   "cell_type": "code",
   "execution_count": 21,
   "id": "d6364265-5ba9-48ee-af96-3b498af6ee70",
   "metadata": {},
   "outputs": [
    {
     "data": {
      "application/vnd.jupyter.widget-view+json": {
       "model_id": "",
       "version_major": 2,
       "version_minor": 0
      },
      "text/plain": [
       "Output()"
      ]
     },
     "metadata": {},
     "output_type": "display_data"
    },
    {
     "name": "stdout",
     "output_type": "stream",
     "text": [
      "Found software environment build\n"
     ]
    },
    {
     "name": "stderr",
     "output_type": "stream",
     "text": [
      "/home/ryan/.conda/envs/coiledcloud/lib/python3.9/site-packages/coiled/cluster.py:629: UserWarning: Unable to locate credentials\n",
      "  warnings.warn(str(e))\n"
     ]
    },
    {
     "data": {
      "text/html": [
       "<pre style=\"white-space:pre;overflow-x:auto;line-height:normal;font-family:Menlo,'DejaVu Sans Mono',consolas,'Courier New',monospace\"></pre>\n"
      ],
      "text/plain": []
     },
     "metadata": {},
     "output_type": "display_data"
    }
   ],
   "source": [
    "import coiled\n",
    "\n",
    "cluster = coiled.Cluster(name=\"taxi-analysis\", n_workers=10)"
   ]
  },
  {
   "cell_type": "markdown",
   "id": "baa302fe-8275-4bce-b148-f2968cb2ced2",
   "metadata": {},
   "source": [
    "Once a cluster has been created (you can see the status on your [Coiled dashboard](https://cloud.coiled.io/)), you can connect Dask to the cluster by creating a `distributed.Client` instance."
   ]
  },
  {
   "cell_type": "code",
   "execution_count": 22,
   "id": "e4f8d0f7-111d-43fb-8944-fa2877822a4b",
   "metadata": {},
   "outputs": [
    {
     "name": "stderr",
     "output_type": "stream",
     "text": [
      "/home/ryan/.conda/envs/coiledcloud/lib/python3.9/site-packages/distributed/client.py:1148: VersionMismatchWarning: Mismatched versions found\n",
      "\n",
      "+---------+---------------+---------------+---------------+\n",
      "| Package | client        | scheduler     | workers       |\n",
      "+---------+---------------+---------------+---------------+\n",
      "| blosc   | None          | 1.10.2        | 1.10.2        |\n",
      "| lz4     | None          | 3.1.3         | 3.1.3         |\n",
      "| python  | 3.9.0.final.0 | 3.9.4.final.0 | 3.9.4.final.0 |\n",
      "+---------+---------------+---------------+---------------+\n",
      "  warnings.warn(version_module.VersionMismatchWarning(msg[0][\"warning\"]))\n"
     ]
    },
    {
     "data": {
      "text/html": [
       "<table style=\"border: 2px solid white;\">\n",
       "<tr>\n",
       "<td style=\"vertical-align: top; border: 0px solid white\">\n",
       "<h3 style=\"text-align: left;\">Client</h3>\n",
       "<ul style=\"text-align: left; list-style: none; margin: 0; padding: 0;\">\n",
       "  <li><b>Scheduler: </b>tls://ec2-34-227-242-212.compute-1.amazonaws.com:8786</li>\n",
       "  <li><b>Dashboard: </b><a href='http://ec2-34-227-242-212.compute-1.amazonaws.com:8787' target='_blank'>http://ec2-34-227-242-212.compute-1.amazonaws.com:8787</a></li>\n",
       "</ul>\n",
       "</td>\n",
       "<td style=\"vertical-align: top; border: 0px solid white\">\n",
       "<h3 style=\"text-align: left;\">Cluster</h3>\n",
       "<ul style=\"text-align: left; list-style:none; margin: 0; padding: 0;\">\n",
       "  <li><b>Workers: </b>10</li>\n",
       "  <li><b>Cores: </b>20</li>\n",
       "  <li><b>Memory: </b>80.00 GiB</li>\n",
       "</ul>\n",
       "</td>\n",
       "</tr>\n",
       "</table>"
      ],
      "text/plain": [
       "<Client: 'tls://10.3.125.12:8786' processes=10 threads=20, memory=80.00 GiB>"
      ]
     },
     "execution_count": 22,
     "metadata": {},
     "output_type": "execute_result"
    }
   ],
   "source": [
    "from dask.distributed import Client\n",
    "\n",
    "client = Client(cluster)\n",
    "client"
   ]
  },
  {
   "cell_type": "markdown",
   "id": "0d0b02d1-cb95-4cee-a4cb-3ebe5817cd24",
   "metadata": {},
   "source": [
    "## Analyze data in the cloud\n",
    "\n",
    "Now that we have our cluster running and Dask connected to it, let's run a computation. This example will run the computation on about 84 million rows."
   ]
  },
  {
   "cell_type": "code",
   "execution_count": 23,
   "id": "164a1bbf-9314-4ff2-b698-d921c646f668",
   "metadata": {},
   "outputs": [],
   "source": [
    "import dask.dataframe as dd\n",
    "\n",
    "taxi_full = dd.read_csv(\n",
    "    \"s3://nyc-tlc/trip data/yellow_tripdata_2019-*.csv\",\n",
    "    dtype={\n",
    "        \"payment_type\": \"UInt8\",\n",
    "        \"VendorID\": \"UInt8\",\n",
    "        \"passenger_count\": \"UInt8\",\n",
    "        \"RatecodeID\": \"UInt8\",\n",
    "    },\n",
    "    storage_options={\"anon\": True},\n",
    "    blocksize=\"16 MiB\",\n",
    ").persist()"
   ]
  },
  {
   "cell_type": "code",
   "execution_count": 26,
   "id": "e17f4b6f-b970-4c4d-8345-7f642d7e19da",
   "metadata": {},
   "outputs": [
    {
     "data": {
      "text/html": [
       "<div>\n",
       "<style scoped>\n",
       "    .dataframe tbody tr th:only-of-type {\n",
       "        vertical-align: middle;\n",
       "    }\n",
       "\n",
       "    .dataframe tbody tr th {\n",
       "        vertical-align: top;\n",
       "    }\n",
       "\n",
       "    .dataframe thead th {\n",
       "        text-align: right;\n",
       "    }\n",
       "</style>\n",
       "<table border=\"1\" class=\"dataframe\">\n",
       "  <thead>\n",
       "    <tr style=\"text-align: right;\">\n",
       "      <th></th>\n",
       "      <th>tip_amount</th>\n",
       "      <th>trip_distance</th>\n",
       "      <th>fare_amount</th>\n",
       "    </tr>\n",
       "  </thead>\n",
       "  <tbody>\n",
       "    <tr>\n",
       "      <th>count</th>\n",
       "      <td>8.439902e+07</td>\n",
       "      <td>8.439902e+07</td>\n",
       "      <td>8.439902e+07</td>\n",
       "    </tr>\n",
       "    <tr>\n",
       "      <th>mean</th>\n",
       "      <td>2.195064e+00</td>\n",
       "      <td>3.000928e+00</td>\n",
       "      <td>1.334399e+01</td>\n",
       "    </tr>\n",
       "    <tr>\n",
       "      <th>std</th>\n",
       "      <td>1.565706e+01</td>\n",
       "      <td>8.091114e+00</td>\n",
       "      <td>1.743749e+02</td>\n",
       "    </tr>\n",
       "    <tr>\n",
       "      <th>min</th>\n",
       "      <td>-2.210000e+02</td>\n",
       "      <td>-3.726453e+04</td>\n",
       "      <td>-1.856000e+03</td>\n",
       "    </tr>\n",
       "    <tr>\n",
       "      <th>25%</th>\n",
       "      <td>5.000000e-01</td>\n",
       "      <td>1.270000e+00</td>\n",
       "      <td>8.000000e+00</td>\n",
       "    </tr>\n",
       "    <tr>\n",
       "      <th>50%</th>\n",
       "      <td>2.060000e+00</td>\n",
       "      <td>2.320000e+00</td>\n",
       "      <td>1.250000e+01</td>\n",
       "    </tr>\n",
       "    <tr>\n",
       "      <th>75%</th>\n",
       "      <td>3.360000e+00</td>\n",
       "      <td>1.177000e+01</td>\n",
       "      <td>4.201000e+01</td>\n",
       "    </tr>\n",
       "    <tr>\n",
       "      <th>max</th>\n",
       "      <td>1.414920e+05</td>\n",
       "      <td>4.597722e+04</td>\n",
       "      <td>9.432748e+05</td>\n",
       "    </tr>\n",
       "  </tbody>\n",
       "</table>\n",
       "</div>"
      ],
      "text/plain": [
       "         tip_amount  trip_distance   fare_amount\n",
       "count  8.439902e+07   8.439902e+07  8.439902e+07\n",
       "mean   2.195064e+00   3.000928e+00  1.334399e+01\n",
       "std    1.565706e+01   8.091114e+00  1.743749e+02\n",
       "min   -2.210000e+02  -3.726453e+04 -1.856000e+03\n",
       "25%    5.000000e-01   1.270000e+00  8.000000e+00\n",
       "50%    2.060000e+00   2.320000e+00  1.250000e+01\n",
       "75%    3.360000e+00   1.177000e+01  4.201000e+01\n",
       "max    1.414920e+05   4.597722e+04  9.432748e+05"
      ]
     },
     "execution_count": 26,
     "metadata": {},
     "output_type": "execute_result"
    }
   ],
   "source": [
    "# print(taxi_full.tip_amount.mean().compute())\n",
    "# print(taxi_full.trip_distance.mean().compute())\n",
    "# print(taxi_full.fare_amount.mean().compute())\n",
    "# print(len(taxi_full))\n",
    "\n",
    "taxi_full[['tip_amount', 'trip_distance', 'fare_amount']].describe().compute()"
   ]
  },
  {
   "cell_type": "code",
   "execution_count": 27,
   "id": "e7e63a43-308b-4599-ab3c-1d73f667b4a1",
   "metadata": {},
   "outputs": [],
   "source": [
    "taxi_full_wtips = taxi_full[taxi_full['tip_amount']>0]"
   ]
  },
  {
   "cell_type": "code",
   "execution_count": 28,
   "id": "73c2992a-f7a6-4504-bab1-64c6e4bb6218",
   "metadata": {},
   "outputs": [
    {
     "data": {
      "text/plain": [
       "0.6899768941627153"
      ]
     },
     "execution_count": 28,
     "metadata": {},
     "output_type": "execute_result"
    }
   ],
   "source": [
    "len(taxi_full_wtips)/len(taxi_full)"
   ]
  },
  {
   "cell_type": "code",
   "execution_count": 29,
   "id": "f08682c2-5f79-439a-992b-e1f407ef7cf3",
   "metadata": {},
   "outputs": [
    {
     "data": {
      "text/html": [
       "<div>\n",
       "<style scoped>\n",
       "    .dataframe tbody tr th:only-of-type {\n",
       "        vertical-align: middle;\n",
       "    }\n",
       "\n",
       "    .dataframe tbody tr th {\n",
       "        vertical-align: top;\n",
       "    }\n",
       "\n",
       "    .dataframe thead th {\n",
       "        text-align: right;\n",
       "    }\n",
       "</style>\n",
       "<table border=\"1\" class=\"dataframe\">\n",
       "  <thead>\n",
       "    <tr style=\"text-align: right;\">\n",
       "      <th></th>\n",
       "      <th>tip_amount</th>\n",
       "      <th>trip_distance</th>\n",
       "      <th>fare_amount</th>\n",
       "    </tr>\n",
       "  </thead>\n",
       "  <tbody>\n",
       "    <tr>\n",
       "      <th>count</th>\n",
       "      <td>5.823337e+07</td>\n",
       "      <td>5.823337e+07</td>\n",
       "      <td>5.823337e+07</td>\n",
       "    </tr>\n",
       "    <tr>\n",
       "      <th>mean</th>\n",
       "      <td>3.181497e+00</td>\n",
       "      <td>2.998858e+00</td>\n",
       "      <td>1.329481e+01</td>\n",
       "    </tr>\n",
       "    <tr>\n",
       "      <th>std</th>\n",
       "      <td>1.876556e+01</td>\n",
       "      <td>3.844208e+00</td>\n",
       "      <td>1.241712e+02</td>\n",
       "    </tr>\n",
       "    <tr>\n",
       "      <th>min</th>\n",
       "      <td>1.000000e-02</td>\n",
       "      <td>-1.379000e+01</td>\n",
       "      <td>-4.000000e+02</td>\n",
       "    </tr>\n",
       "    <tr>\n",
       "      <th>25%</th>\n",
       "      <td>1.960000e+00</td>\n",
       "      <td>1.320000e+00</td>\n",
       "      <td>7.500000e+00</td>\n",
       "    </tr>\n",
       "    <tr>\n",
       "      <th>50%</th>\n",
       "      <td>2.660000e+00</td>\n",
       "      <td>2.300000e+00</td>\n",
       "      <td>1.100000e+01</td>\n",
       "    </tr>\n",
       "    <tr>\n",
       "      <th>75%</th>\n",
       "      <td>1.354000e+01</td>\n",
       "      <td>1.508250e+01</td>\n",
       "      <td>6.500000e+01</td>\n",
       "    </tr>\n",
       "    <tr>\n",
       "      <th>max</th>\n",
       "      <td>1.414920e+05</td>\n",
       "      <td>8.318000e+02</td>\n",
       "      <td>9.432748e+05</td>\n",
       "    </tr>\n",
       "  </tbody>\n",
       "</table>\n",
       "</div>"
      ],
      "text/plain": [
       "         tip_amount  trip_distance   fare_amount\n",
       "count  5.823337e+07   5.823337e+07  5.823337e+07\n",
       "mean   3.181497e+00   2.998858e+00  1.329481e+01\n",
       "std    1.876556e+01   3.844208e+00  1.241712e+02\n",
       "min    1.000000e-02  -1.379000e+01 -4.000000e+02\n",
       "25%    1.960000e+00   1.320000e+00  7.500000e+00\n",
       "50%    2.660000e+00   2.300000e+00  1.100000e+01\n",
       "75%    1.354000e+01   1.508250e+01  6.500000e+01\n",
       "max    1.414920e+05   8.318000e+02  9.432748e+05"
      ]
     },
     "execution_count": 29,
     "metadata": {},
     "output_type": "execute_result"
    }
   ],
   "source": [
    "# print(taxi_full_wtips.tip_amount.mean().compute(), taxi_full_wtips.tip_amount.std().compute())\n",
    "# print(taxi_full_wtips.trip_distance.mean().compute())\n",
    "# print(taxi_full_wtips.fare_amount.mean().compute())\n",
    "# print(len(taxi_full_wtips))\n",
    "\n",
    "taxi_full_wtips[['tip_amount', 'trip_distance', 'fare_amount']].describe().compute()"
   ]
  },
  {
   "cell_type": "code",
   "execution_count": 30,
   "id": "2a341a91-7271-45c3-a1f0-9c7e56105e7b",
   "metadata": {},
   "outputs": [
    {
     "data": {
      "text/html": [
       "<pre style=\"white-space:pre;overflow-x:auto;line-height:normal;font-family:Menlo,'DejaVu Sans Mono',consolas,'Courier New',monospace\"><span style=\"color: #008000; text-decoration-color: #008000\">Cluster deleted successfully.</span>\n",
       "</pre>\n"
      ],
      "text/plain": [
       "\u001b[32mCluster deleted successfully.\u001b[0m\n"
      ]
     },
     "metadata": {},
     "output_type": "display_data"
    }
   ],
   "source": [
    "coiled.delete_cluster(name=\"taxi-analysis\")\n",
    "client.close()"
   ]
  },
  {
   "cell_type": "markdown",
   "id": "4477898c-19f8-4f65-b96b-6e43dfd6190f",
   "metadata": {},
   "source": [
    "## Wrapping up\n",
    "\n"
   ]
  }
 ],
 "metadata": {
  "kernelspec": {
   "display_name": "Python 3",
   "language": "python",
   "name": "python3"
  },
  "language_info": {
   "codemirror_mode": {
    "name": "ipython",
    "version": 3
   },
   "file_extension": ".py",
   "mimetype": "text/x-python",
   "name": "python",
   "nbconvert_exporter": "python",
   "pygments_lexer": "ipython3",
   "version": "3.9.0"
  }
 },
 "nbformat": 4,
 "nbformat_minor": 5
}
