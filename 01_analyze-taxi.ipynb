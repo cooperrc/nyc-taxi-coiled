{
 "cells": [
  {
   "cell_type": "markdown",
   "id": "b9af8d4a-0b3a-4a44-99e2-78e26fbc957d",
   "metadata": {},
   "source": [
    "# 01 - Create descriptive statistics for NYC Yellow Cab data set\n",
    "\n",
    "In this notebook you will\n",
    "\n",
    "- Launch a [Coiled Cluster]()\n",
    "- Load a [Dask dataframe]() into your workspace\n",
    "- Perform math operations on the Dask dataframe to describe statistics of tips, total distance traveled, and fare amounts\n",
    "\n",
    "You will need\n",
    "\n",
    "- Coiled \n",
    "- Dask\n",
    "- "
   ]
  },
  {
   "cell_type": "markdown",
   "id": "28bcf7ef-544e-4352-b0ee-338027e9c08d",
   "metadata": {},
   "source": [
    "## Launch a cluster\n",
    "\n",
    "The first step is to spin up a Dask Cluster. In Coiled, this is done by creating a `coiled.Cluster` instance, there are [several keyword arguments](https://docs.coiled.io/user_guide/api.html#coiled.Cluster) you can use to specify the details of your cluster further. Please read the [cluster creation documentation](https://docs.coiled.io/user_guide/cluster_creation.html) to know more.\n",
    "\n",
    "Note that we will give a name to this cluster, if you don't specify this keyword argument, clusters will be given a unique randomly generated name."
   ]
  },
  {
   "cell_type": "code",
   "execution_count": 57,
   "id": "d6364265-5ba9-48ee-af96-3b498af6ee70",
   "metadata": {},
   "outputs": [
    {
     "data": {
      "application/vnd.jupyter.widget-view+json": {
       "model_id": "",
       "version_major": 2,
       "version_minor": 0
      },
      "text/plain": [
       "Output()"
      ]
     },
     "metadata": {},
     "output_type": "display_data"
    },
    {
     "name": "stdout",
     "output_type": "stream",
     "text": [
      "Found software environment build\n"
     ]
    },
    {
     "name": "stderr",
     "output_type": "stream",
     "text": [
      "/home/ryan/.conda/envs/coiledcloud/lib/python3.9/site-packages/coiled/cluster.py:629: UserWarning: Unable to locate credentials\n",
      "  warnings.warn(str(e))\n"
     ]
    },
    {
     "data": {
      "text/html": [
       "<pre style=\"white-space:pre;overflow-x:auto;line-height:normal;font-family:Menlo,'DejaVu Sans Mono',consolas,'Courier New',monospace\"></pre>\n"
      ],
      "text/plain": []
     },
     "metadata": {},
     "output_type": "display_data"
    }
   ],
   "source": [
    "import coiled\n",
    "\n",
    "cluster = coiled.Cluster(name=\"taxi-analysis\", n_workers=10)"
   ]
  },
  {
   "cell_type": "markdown",
   "id": "baa302fe-8275-4bce-b148-f2968cb2ced2",
   "metadata": {},
   "source": [
    "Once a cluster has been created (you can see the status on your [Coiled dashboard](https://cloud.coiled.io/)), you can connect Dask to the cluster by creating a `distributed.Client` instance."
   ]
  },
  {
   "cell_type": "code",
   "execution_count": 2,
   "id": "e4f8d0f7-111d-43fb-8944-fa2877822a4b",
   "metadata": {},
   "outputs": [
    {
     "name": "stderr",
     "output_type": "stream",
     "text": [
      "/home/ryan/.conda/envs/coiledcloud/lib/python3.9/site-packages/distributed/client.py:1148: VersionMismatchWarning: Mismatched versions found\n",
      "\n",
      "+---------+---------------+---------------+---------------+\n",
      "| Package | client        | scheduler     | workers       |\n",
      "+---------+---------------+---------------+---------------+\n",
      "| blosc   | None          | 1.10.2        | 1.10.2        |\n",
      "| lz4     | None          | 3.1.3         | 3.1.3         |\n",
      "| python  | 3.9.0.final.0 | 3.9.4.final.0 | 3.9.4.final.0 |\n",
      "+---------+---------------+---------------+---------------+\n",
      "  warnings.warn(version_module.VersionMismatchWarning(msg[0][\"warning\"]))\n"
     ]
    },
    {
     "data": {
      "text/html": [
       "<table style=\"border: 2px solid white;\">\n",
       "<tr>\n",
       "<td style=\"vertical-align: top; border: 0px solid white\">\n",
       "<h3 style=\"text-align: left;\">Client</h3>\n",
       "<ul style=\"text-align: left; list-style: none; margin: 0; padding: 0;\">\n",
       "  <li><b>Scheduler: </b>tls://ec2-3-238-111-118.compute-1.amazonaws.com:8786</li>\n",
       "  <li><b>Dashboard: </b><a href='http://ec2-3-238-111-118.compute-1.amazonaws.com:8787' target='_blank'>http://ec2-3-238-111-118.compute-1.amazonaws.com:8787</a></li>\n",
       "</ul>\n",
       "</td>\n",
       "<td style=\"vertical-align: top; border: 0px solid white\">\n",
       "<h3 style=\"text-align: left;\">Cluster</h3>\n",
       "<ul style=\"text-align: left; list-style:none; margin: 0; padding: 0;\">\n",
       "  <li><b>Workers: </b>8</li>\n",
       "  <li><b>Cores: </b>16</li>\n",
       "  <li><b>Memory: </b>64.00 GiB</li>\n",
       "</ul>\n",
       "</td>\n",
       "</tr>\n",
       "</table>"
      ],
      "text/plain": [
       "<Client: 'tls://10.3.192.233:8786' processes=8 threads=16, memory=64.00 GiB>"
      ]
     },
     "execution_count": 2,
     "metadata": {},
     "output_type": "execute_result"
    }
   ],
   "source": [
    "from dask.distributed import Client\n",
    "\n",
    "client = Client(cluster)\n",
    "client"
   ]
  },
  {
   "cell_type": "markdown",
   "id": "0d0b02d1-cb95-4cee-a4cb-3ebe5817cd24",
   "metadata": {},
   "source": [
    "## Analyze data in the cloud\n",
    "\n",
    "Now that we have our cluster running and Dask connected to it, let's run a computation. This example will run the computation on about 84 million rows."
   ]
  },
  {
   "cell_type": "code",
   "execution_count": 3,
   "id": "164a1bbf-9314-4ff2-b698-d921c646f668",
   "metadata": {},
   "outputs": [],
   "source": [
    "import dask.dataframe as dd\n",
    "\n",
    "taxi_full = dd.read_csv(\n",
    "    \"s3://nyc-tlc/trip data/yellow_tripdata_2019-*.csv\",\n",
    "    dtype={\n",
    "        \"payment_type\": \"UInt8\",\n",
    "        \"VendorID\": \"UInt8\",\n",
    "        \"passenger_count\": \"UInt8\",\n",
    "        \"RatecodeID\": \"UInt8\",\n",
    "    },\n",
    "    storage_options={\"anon\": True},\n",
    "    blocksize=\"16 MiB\",\n",
    ").persist()"
   ]
  },
  {
   "cell_type": "code",
   "execution_count": 7,
   "id": "e17f4b6f-b970-4c4d-8345-7f642d7e19da",
   "metadata": {},
   "outputs": [
    {
     "data": {
      "text/html": [
       "<div>\n",
       "<style scoped>\n",
       "    .dataframe tbody tr th:only-of-type {\n",
       "        vertical-align: middle;\n",
       "    }\n",
       "\n",
       "    .dataframe tbody tr th {\n",
       "        vertical-align: top;\n",
       "    }\n",
       "\n",
       "    .dataframe thead th {\n",
       "        text-align: right;\n",
       "    }\n",
       "</style>\n",
       "<table border=\"1\" class=\"dataframe\">\n",
       "  <thead>\n",
       "    <tr style=\"text-align: right;\">\n",
       "      <th></th>\n",
       "      <th>tip_amount</th>\n",
       "      <th>trip_distance</th>\n",
       "      <th>fare_amount</th>\n",
       "    </tr>\n",
       "  </thead>\n",
       "  <tbody>\n",
       "    <tr>\n",
       "      <th>count</th>\n",
       "      <td>8.439902e+07</td>\n",
       "      <td>8.439902e+07</td>\n",
       "      <td>8.439902e+07</td>\n",
       "    </tr>\n",
       "    <tr>\n",
       "      <th>mean</th>\n",
       "      <td>2.195064e+00</td>\n",
       "      <td>3.000928e+00</td>\n",
       "      <td>1.334399e+01</td>\n",
       "    </tr>\n",
       "    <tr>\n",
       "      <th>std</th>\n",
       "      <td>1.565706e+01</td>\n",
       "      <td>8.091114e+00</td>\n",
       "      <td>1.743749e+02</td>\n",
       "    </tr>\n",
       "    <tr>\n",
       "      <th>min</th>\n",
       "      <td>-2.210000e+02</td>\n",
       "      <td>-3.726453e+04</td>\n",
       "      <td>-1.856000e+03</td>\n",
       "    </tr>\n",
       "    <tr>\n",
       "      <th>25%</th>\n",
       "      <td>5.000000e-01</td>\n",
       "      <td>1.270000e+00</td>\n",
       "      <td>8.000000e+00</td>\n",
       "    </tr>\n",
       "    <tr>\n",
       "      <th>50%</th>\n",
       "      <td>2.060000e+00</td>\n",
       "      <td>2.320000e+00</td>\n",
       "      <td>1.250000e+01</td>\n",
       "    </tr>\n",
       "    <tr>\n",
       "      <th>75%</th>\n",
       "      <td>3.360000e+00</td>\n",
       "      <td>1.177000e+01</td>\n",
       "      <td>4.201000e+01</td>\n",
       "    </tr>\n",
       "    <tr>\n",
       "      <th>max</th>\n",
       "      <td>1.414920e+05</td>\n",
       "      <td>4.597722e+04</td>\n",
       "      <td>9.432748e+05</td>\n",
       "    </tr>\n",
       "  </tbody>\n",
       "</table>\n",
       "</div>"
      ],
      "text/plain": [
       "         tip_amount  trip_distance   fare_amount\n",
       "count  8.439902e+07   8.439902e+07  8.439902e+07\n",
       "mean   2.195064e+00   3.000928e+00  1.334399e+01\n",
       "std    1.565706e+01   8.091114e+00  1.743749e+02\n",
       "min   -2.210000e+02  -3.726453e+04 -1.856000e+03\n",
       "25%    5.000000e-01   1.270000e+00  8.000000e+00\n",
       "50%    2.060000e+00   2.320000e+00  1.250000e+01\n",
       "75%    3.360000e+00   1.177000e+01  4.201000e+01\n",
       "max    1.414920e+05   4.597722e+04  9.432748e+05"
      ]
     },
     "execution_count": 7,
     "metadata": {},
     "output_type": "execute_result"
    }
   ],
   "source": [
    "# print(taxi_full.tip_amount.mean().compute())\n",
    "# print(taxi_full.trip_distance.mean().compute())\n",
    "# print(taxi_full.fare_amount.mean().compute())\n",
    "# print(len(taxi_full))\n",
    "\n",
    "taxi_full[['tip_amount', 'trip_distance', 'fare_amount']].describe().compute()"
   ]
  },
  {
   "cell_type": "code",
   "execution_count": 9,
   "id": "e7e63a43-308b-4599-ab3c-1d73f667b4a1",
   "metadata": {},
   "outputs": [],
   "source": [
    "taxi_full_wtips = taxi_full[(taxi_full['tip_amount'] > 0) & (taxi_full['fare_amount'] > 0) & (taxi_full['trip_distance'] > 0)]"
   ]
  },
  {
   "cell_type": "code",
   "execution_count": 11,
   "id": "73c2992a-f7a6-4504-bab1-64c6e4bb6218",
   "metadata": {},
   "outputs": [
    {
     "data": {
      "text/plain": [
       "0.6871754516483183"
      ]
     },
     "execution_count": 11,
     "metadata": {},
     "output_type": "execute_result"
    }
   ],
   "source": [
    "len(taxi_full_wtips)/len(taxi_full)"
   ]
  },
  {
   "cell_type": "code",
   "execution_count": 48,
   "id": "0eed7702-66ff-4c4e-bebc-fae70bf825ef",
   "metadata": {},
   "outputs": [
    {
     "data": {
      "text/html": [
       "<div>\n",
       "<style scoped>\n",
       "    .dataframe tbody tr th:only-of-type {\n",
       "        vertical-align: middle;\n",
       "    }\n",
       "\n",
       "    .dataframe tbody tr th {\n",
       "        vertical-align: top;\n",
       "    }\n",
       "\n",
       "    .dataframe thead th {\n",
       "        text-align: right;\n",
       "    }\n",
       "</style>\n",
       "<table border=\"1\" class=\"dataframe\">\n",
       "  <thead>\n",
       "    <tr style=\"text-align: right;\">\n",
       "      <th></th>\n",
       "      <th>tip_amount</th>\n",
       "      <th>trip_distance</th>\n",
       "      <th>fare_amount</th>\n",
       "    </tr>\n",
       "  </thead>\n",
       "  <tbody>\n",
       "    <tr>\n",
       "      <th>count</th>\n",
       "      <td>5.799693e+07</td>\n",
       "      <td>5.799693e+07</td>\n",
       "      <td>5.799693e+07</td>\n",
       "    </tr>\n",
       "    <tr>\n",
       "      <th>mean</th>\n",
       "      <td>3.153767e+00</td>\n",
       "      <td>3.010900e+00</td>\n",
       "      <td>1.316246e+01</td>\n",
       "    </tr>\n",
       "    <tr>\n",
       "      <th>std</th>\n",
       "      <td>2.776373e+00</td>\n",
       "      <td>3.846897e+00</td>\n",
       "      <td>1.144604e+01</td>\n",
       "    </tr>\n",
       "    <tr>\n",
       "      <th>min</th>\n",
       "      <td>1.000000e-02</td>\n",
       "      <td>1.000000e-02</td>\n",
       "      <td>1.000000e-02</td>\n",
       "    </tr>\n",
       "    <tr>\n",
       "      <th>25%</th>\n",
       "      <td>1.960000e+00</td>\n",
       "      <td>1.330000e+00</td>\n",
       "      <td>7.500000e+00</td>\n",
       "    </tr>\n",
       "    <tr>\n",
       "      <th>50%</th>\n",
       "      <td>2.660000e+00</td>\n",
       "      <td>2.300000e+00</td>\n",
       "      <td>1.100000e+01</td>\n",
       "    </tr>\n",
       "    <tr>\n",
       "      <th>75%</th>\n",
       "      <td>1.330000e+01</td>\n",
       "      <td>1.555000e+01</td>\n",
       "      <td>6.500000e+01</td>\n",
       "    </tr>\n",
       "    <tr>\n",
       "      <th>max</th>\n",
       "      <td>1.624640e+03</td>\n",
       "      <td>8.318000e+02</td>\n",
       "      <td>9.022000e+03</td>\n",
       "    </tr>\n",
       "  </tbody>\n",
       "</table>\n",
       "</div>"
      ],
      "text/plain": [
       "         tip_amount  trip_distance   fare_amount\n",
       "count  5.799693e+07   5.799693e+07  5.799693e+07\n",
       "mean   3.153767e+00   3.010900e+00  1.316246e+01\n",
       "std    2.776373e+00   3.846897e+00  1.144604e+01\n",
       "min    1.000000e-02   1.000000e-02  1.000000e-02\n",
       "25%    1.960000e+00   1.330000e+00  7.500000e+00\n",
       "50%    2.660000e+00   2.300000e+00  1.100000e+01\n",
       "75%    1.330000e+01   1.555000e+01  6.500000e+01\n",
       "max    1.624640e+03   8.318000e+02  9.022000e+03"
      ]
     },
     "execution_count": 48,
     "metadata": {},
     "output_type": "execute_result"
    }
   ],
   "source": [
    "# print(taxi_full_wtips.tip_amount.mean().compute(), taxi_full_wtips.tip_amount.std().compute())\n",
    "# print(taxi_full_wtips.trip_distance.mean().compute())\n",
    "# print(taxi_full_wtips.fare_amount.mean().compute())\n",
    "# print(len(taxi_full_wtips))\n",
    "\n",
    "taxi_full_wtips[['tip_amount', 'trip_distance', 'fare_amount']].describe().compute()"
   ]
  },
  {
   "cell_type": "code",
   "execution_count": 46,
   "id": "baf07d72-8b3d-4cd2-b769-d5419f1b1297",
   "metadata": {},
   "outputs": [],
   "source": [
    "import dask.array as da\n",
    "h_fare, bins_fare = da.histogram(taxi_full_wtips['fare_amount'], bins = np.logspace(0,2,50), range = [0, 150])\n",
    "h_trip, bins_trip = da.histogram(taxi_full_wtips['trip_distance'], bins = np.logspace(-1,2,50), range = [0, 150])\n",
    "h_tip, bins_tip = da.histogram(taxi_full_wtips['tip_amount'], bins = np.logspace(-1,2,50), range = [0, 100])"
   ]
  },
  {
   "cell_type": "code",
   "execution_count": 50,
   "id": "f96e5d8f-a107-4a0b-81a1-f03ad20dbbb5",
   "metadata": {},
   "outputs": [],
   "source": [
    "import matplotlib.pyplot as plt\n",
    "import numpy as np\n",
    "plt.style.use('fivethirtyeight')"
   ]
  },
  {
   "cell_type": "code",
   "execution_count": 56,
   "id": "b397445e-584f-4e56-90f7-78da4207db70",
   "metadata": {},
   "outputs": [
    {
     "data": {
      "image/png": "[encoded data removed]",
      "text/plain": [
       "<Figure size 432x288 with 1 Axes>"
      ]
     },
     "metadata": {},
     "output_type": "display_data"
    },
    {
     "name": "stderr",
     "output_type": "stream",
     "text": [
      "distributed.client - ERROR - Failed to reconnect to scheduler after 10.00 seconds, closing client\n",
      "_GatheringFuture exception was never retrieved\n",
      "future: <_GatheringFuture finished exception=CancelledError()>\n",
      "asyncio.exceptions.CancelledError\n"
     ]
    }
   ],
   "source": [
    "plt.semilogx(bins_fare[1:], h_fare/np.sum(h_fare), label = 'fare amount ($)')\n",
    "# plt.semilogx([13.162, 13.162], [0, 0.15])\n",
    "plt.semilogx(bins_trip[1:], h_trip/np.sum(h_trip), label = 'trip distance (mi)')\n",
    "plt.semilogx(bins_tip[1:], h_tip/np.sum(h_tip), label = 'tip amount ($)')\n",
    "plt.legend();"
   ]
  },
  {
   "cell_type": "markdown",
   "id": "4477898c-19f8-4f65-b96b-6e43dfd6190f",
   "metadata": {},
   "source": [
    "## Wrapping up\n",
    "\n",
    "In this notebook, you \n",
    "- loaded the NYC Yellow Cab data set into Dask dataframe on a Coiled cluster\n",
    "- calculated summative statistics for the taxi fares, trip distances, and tips\n",
    "- plotted the histogram for taxi fares, trip distances, and tips\n",
    "\n",
    "> __Note__: These statistical measures and the following predictive analysis using ordinary least squares regression assume that fares and distances are random variables, but in general fares should be proportional to distance traveled. You should keep this in mind while considering the results of this analysis. "
   ]
  },
  {
   "cell_type": "code",
   "execution_count": 30,
   "id": "add2ff7e-4c3b-4adc-986f-00feeed9b4b3",
   "metadata": {},
   "outputs": [
    {
     "data": {
      "text/html": [
       "<pre style=\"white-space:pre;overflow-x:auto;line-height:normal;font-family:Menlo,'DejaVu Sans Mono',consolas,'Courier New',monospace\"><span style=\"color: #008000; text-decoration-color: #008000\">Cluster deleted successfully.</span>\n",
       "</pre>\n"
      ],
      "text/plain": [
       "\u001b[32mCluster deleted successfully.\u001b[0m\n"
      ]
     },
     "metadata": {},
     "output_type": "display_data"
    }
   ],
   "source": [
    "coiled.delete_cluster(name=\"taxi-analysis\")\n",
    "client.close()"
   ]
  }
 ],
 "metadata": {
  "kernelspec": {
   "display_name": "Python 3",
   "language": "python",
   "name": "python3"
  },
  "language_info": {
   "codemirror_mode": {
    "name": "ipython",
    "version": 3
   },
   "file_extension": ".py",
   "mimetype": "text/x-python",
   "name": "python",
   "nbconvert_exporter": "python",
   "pygments_lexer": "ipython3",
   "version": "3.9.0"
  }
 },
 "nbformat": 4,
 "nbformat_minor": 5
}
