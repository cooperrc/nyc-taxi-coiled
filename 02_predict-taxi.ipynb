{
 "cells": [
  {
   "cell_type": "markdown",
   "id": "01fb26d2-103f-4bfc-a93f-2ce0e22adbf5",
   "metadata": {},
   "source": [
    "# Create predictive model for NYC Yellow Cab data set\n",
    "\n",
    "In this notebook, "
   ]
  },
  {
   "cell_type": "markdown",
   "id": "955ee36a-a008-4d43-a60b-138090351484",
   "metadata": {},
   "source": [
    "## Launch a cluster\n",
    "\n",
    "The first step is to spin up a Dask Cluster. In Coiled, this is done by creating a `coiled.Cluster` instance, there are [several keyword arguments](https://docs.coiled.io/user_guide/api.html#coiled.Cluster) you can use to specify the details of your cluster further. Please read the [cluster creation documentation](https://docs.coiled.io/user_guide/cluster_creation.html) to know more.\n",
    "\n",
    "Note that we will give a name to this cluster, if you don't specify this keyword argument, clusters will be given a unique randomly generated name."
   ]
  },
  {
   "cell_type": "code",
   "execution_count": 1,
   "id": "1f003dab-78ec-4ae0-905e-e7dd04fec75d",
   "metadata": {},
   "outputs": [
    {
     "data": {
      "application/vnd.jupyter.widget-view+json": {
       "model_id": "",
       "version_major": 2,
       "version_minor": 0
      },
      "text/plain": [
       "Output()"
      ]
     },
     "metadata": {},
     "output_type": "display_data"
    },
    {
     "name": "stdout",
     "output_type": "stream",
     "text": [
      "Found software environment build\n"
     ]
    },
    {
     "name": "stderr",
     "output_type": "stream",
     "text": [
      "/home/ryan/.conda/envs/coiledcloud/lib/python3.9/site-packages/coiled/cluster.py:629: UserWarning: Unable to locate credentials\n",
      "  warnings.warn(str(e))\n"
     ]
    },
    {
     "data": {
      "text/html": [
       "<pre style=\"white-space:pre;overflow-x:auto;line-height:normal;font-family:Menlo,'DejaVu Sans Mono',consolas,'Courier New',monospace\"></pre>\n"
      ],
      "text/plain": []
     },
     "metadata": {},
     "output_type": "display_data"
    }
   ],
   "source": [
    "import coiled\n",
    "\n",
    "cluster = coiled.Cluster(name=\"taxi-predict\", n_workers=10)"
   ]
  },
  {
   "cell_type": "markdown",
   "id": "878b5063-65d9-4eeb-9670-46d58632be9e",
   "metadata": {},
   "source": [
    "Once a cluster has been created (you can see the status on your [Coiled dashboard](https://cloud.coiled.io/)), you can connect Dask to the cluster by creating a `distributed.Client` instance."
   ]
  },
  {
   "cell_type": "code",
   "execution_count": 2,
   "id": "9ab85ece-0e29-46be-a2b2-5e7132feb852",
   "metadata": {},
   "outputs": [
    {
     "name": "stderr",
     "output_type": "stream",
     "text": [
      "/home/ryan/.conda/envs/coiledcloud/lib/python3.9/site-packages/distributed/client.py:1148: VersionMismatchWarning: Mismatched versions found\n",
      "\n",
      "+---------+---------------+---------------+---------------+\n",
      "| Package | client        | scheduler     | workers       |\n",
      "+---------+---------------+---------------+---------------+\n",
      "| blosc   | None          | 1.10.2        | 1.10.2        |\n",
      "| lz4     | None          | 3.1.3         | 3.1.3         |\n",
      "| python  | 3.9.0.final.0 | 3.9.4.final.0 | 3.9.4.final.0 |\n",
      "+---------+---------------+---------------+---------------+\n",
      "  warnings.warn(version_module.VersionMismatchWarning(msg[0][\"warning\"]))\n"
     ]
    },
    {
     "data": {
      "text/html": [
       "<table style=\"border: 2px solid white;\">\n",
       "<tr>\n",
       "<td style=\"vertical-align: top; border: 0px solid white\">\n",
       "<h3 style=\"text-align: left;\">Client</h3>\n",
       "<ul style=\"text-align: left; list-style: none; margin: 0; padding: 0;\">\n",
       "  <li><b>Scheduler: </b>tls://ec2-3-83-13-228.compute-1.amazonaws.com:8786</li>\n",
       "  <li><b>Dashboard: </b><a href='http://ec2-3-83-13-228.compute-1.amazonaws.com:8787' target='_blank'>http://ec2-3-83-13-228.compute-1.amazonaws.com:8787</a></li>\n",
       "</ul>\n",
       "</td>\n",
       "<td style=\"vertical-align: top; border: 0px solid white\">\n",
       "<h3 style=\"text-align: left;\">Cluster</h3>\n",
       "<ul style=\"text-align: left; list-style:none; margin: 0; padding: 0;\">\n",
       "  <li><b>Workers: </b>8</li>\n",
       "  <li><b>Cores: </b>16</li>\n",
       "  <li><b>Memory: </b>64.00 GiB</li>\n",
       "</ul>\n",
       "</td>\n",
       "</tr>\n",
       "</table>"
      ],
      "text/plain": [
       "<Client: 'tls://10.3.173.243:8786' processes=8 threads=16, memory=64.00 GiB>"
      ]
     },
     "execution_count": 2,
     "metadata": {},
     "output_type": "execute_result"
    }
   ],
   "source": [
    "from dask.distributed import Client\n",
    "\n",
    "client = Client(cluster)\n",
    "client"
   ]
  },
  {
   "cell_type": "markdown",
   "id": "56fb62a2-5e9a-49cd-994b-8f927fa91763",
   "metadata": {},
   "source": [
    "## Analyze data in the cloud\n",
    "\n",
    "Now that we have our cluster running and Dask connected to it, let's run a computation. This example will run the computation on about 84 million rows."
   ]
  },
  {
   "cell_type": "code",
   "execution_count": 3,
   "id": "46f15bca-7dc9-44db-8423-0293f4c20d87",
   "metadata": {},
   "outputs": [],
   "source": [
    "import dask.dataframe as dd\n",
    "\n",
    "taxi_full = dd.read_csv(\n",
    "    \"s3://nyc-tlc/trip data/yellow_tripdata_2019-*.csv\",\n",
    "    dtype={\n",
    "        \"payment_type\": \"UInt8\",\n",
    "        \"VendorID\": \"UInt8\",\n",
    "        \"passenger_count\": \"UInt8\",\n",
    "        \"RatecodeID\": \"UInt8\",\n",
    "    },\n",
    "    storage_options={\"anon\": True},\n",
    "    blocksize=\"16 MiB\",\n",
    ").persist()"
   ]
  },
  {
   "cell_type": "code",
   "execution_count": 4,
   "id": "e26c1d95-fbcd-4a8b-ac49-b56c048ad0a8",
   "metadata": {},
   "outputs": [
    {
     "name": "stdout",
     "output_type": "stream",
     "text": [
      "2.195064126989438\n",
      "3.0009277213281353\n",
      "13.3439912007745\n",
      "84399019\n"
     ]
    }
   ],
   "source": [
    "print(taxi_full.tip_amount.mean().compute())\n",
    "print(taxi_full.trip_distance.mean().compute())\n",
    "print(taxi_full.fare_amount.mean().compute())\n",
    "print(len(taxi_full))"
   ]
  },
  {
   "cell_type": "code",
   "execution_count": 5,
   "id": "8db555df-c3f5-4ccd-8cdb-91756b5e52d2",
   "metadata": {},
   "outputs": [
    {
     "name": "stderr",
     "output_type": "stream",
     "text": [
      "distributed.client - ERROR - Failed to reconnect to scheduler after 10.00 seconds, closing client\n",
      "_GatheringFuture exception was never retrieved\n",
      "future: <_GatheringFuture finished exception=CancelledError()>\n",
      "asyncio.exceptions.CancelledError\n"
     ]
    }
   ],
   "source": [
    "taxi_full_wtips = taxi_full[taxi_full['tip_amount']>0]"
   ]
  },
  {
   "cell_type": "code",
   "execution_count": null,
   "id": "14d4c98b-5fb1-45ff-ab9b-a81f96eee67c",
   "metadata": {},
   "outputs": [],
   "source": []
  }
 ],
 "metadata": {
  "kernelspec": {
   "display_name": "Python 3",
   "language": "python",
   "name": "python3"
  },
  "language_info": {
   "codemirror_mode": {
    "name": "ipython",
    "version": 3
   },
   "file_extension": ".py",
   "mimetype": "text/x-python",
   "name": "python",
   "nbconvert_exporter": "python",
   "pygments_lexer": "ipython3",
   "version": "3.9.0"
  }
 },
 "nbformat": 4,
 "nbformat_minor": 5
}
