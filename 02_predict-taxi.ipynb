{
 "cells": [
  {
   "cell_type": "markdown",
   "id": "01fb26d2-103f-4bfc-a93f-2ce0e22adbf5",
   "metadata": {},
   "source": [
    "# 02 - Create predictive model for NYC Yellow Cab data set\n",
    "\n",
    "In this notebook, you will\n",
    "\n",
    "- Launch a [Coiled Cluster](cloud.coiled.io)\n",
    "- Load a [Dask dataframe](https://tutorial.dask.org/04_dataframe.html) into your workspace\n",
    "- partition data into training and testing sets\n",
    "- perform a linear least square regression with 2 independent variables\n",
    "- use [xgboost](https://xgboost.readthedocs.io/en/latest/tutorials/dask.html) to train a machine learning model\n",
    "\n",
    "You will need\n",
    "\n",
    "- Coiled\n",
    "- Dask\n",
    "- Dask-ML: a machine-learning library for Dask\n",
    "- NumPy\n",
    "- Matplotlib\n"
   ]
  },
  {
   "cell_type": "markdown",
   "id": "871320bd-acb1-48c0-98b5-8e578e8aa91f",
   "metadata": {},
   "source": [
    "## Launch a Coiled cluster\n",
    "\n",
    "The first step is to spin up a Dask Cluster. In Coiled, this is done by creating a `coiled.Cluster` instance. You can use [keyword arguments](https://docs.coiled.io/user_guide/api.html#coiled.Cluster) to specify the details of your cluster further. Please read the [cluster creation documentation](https://docs.coiled.io/user_guide/cluster_creation.html) to know more.\n",
    "\n",
    "Give a name to this cluster, if you don't specify this keyword argument, clusters will be given a unique randomly generated name."
   ]
  },
  {
   "cell_type": "code",
   "execution_count": 1,
   "id": "9da88bfe-567f-45d8-a24d-fb40e7ffde5b",
   "metadata": {},
   "outputs": [],
   "source": [
    "import coiled"
   ]
  },
  {
   "cell_type": "markdown",
   "id": "b7a8228a-775a-438a-a626-b1b8f2772686",
   "metadata": {},
   "source": [
    "The predictive analysis will use [xgboost](https://xgboost.readthedocs.io/en/latest/tutorials/dask.html), so you can create a Coiled software environment using the following command in iPython or Jupyter. \n",
    "\n",
    "```python\n",
    "import coiled\n",
    "coiled.create_software_environment(\n",
    "   name=\"xgboost-on-coiled\",\n",
    "   conda={\n",
    "      \"channels\": [\n",
    "        \"conda-forge\"\n",
    "      ],\n",
    "      \"dependencies\": [\n",
    "        \"coiled\",\n",
    "        \"dask-ml\",\n",
    "        \"dask>=2.23.0\",\n",
    "        \"fastparquet\",\n",
    "        \"pandas>=1.1.0\",\n",
    "        \"python-snappy\",\n",
    "        \"s3fs\",\n",
    "        \"scikit-learn\",\n",
    "        \"xgboost>=1.3.0\"\n",
    "      ]\n",
    "    }\n",
    ")\n",
    "```\n",
    "\n",
    "This creates a container with xgboost and a few other dependencies. You can open the cluster with your new software environment with the `coiled.Cluster` command and specify `software = <username>/xgboost-on-coiled`. Now, you can define the client to access the cluster. "
   ]
  },
  {
   "cell_type": "code",
   "execution_count": 2,
   "id": "ea4babdd-c0a2-4221-8b44-f23955531fbc",
   "metadata": {},
   "outputs": [
    {
     "data": {
      "application/vnd.jupyter.widget-view+json": {
       "model_id": "",
       "version_major": 2,
       "version_minor": 0
      },
      "text/plain": [
       "Output()"
      ]
     },
     "metadata": {},
     "output_type": "display_data"
    },
    {
     "name": "stdout",
     "output_type": "stream",
     "text": [
      "Found software environment build\n"
     ]
    },
    {
     "name": "stderr",
     "output_type": "stream",
     "text": [
      "/home/ryan/.conda/envs/coiledcloud/lib/python3.9/site-packages/coiled/cluster.py:629: UserWarning: Unable to locate credentials\n",
      "  warnings.warn(str(e))\n"
     ]
    },
    {
     "data": {
      "text/html": [
       "<pre style=\"white-space:pre;overflow-x:auto;line-height:normal;font-family:Menlo,'DejaVu Sans Mono',consolas,'Courier New',monospace\"></pre>\n"
      ],
      "text/plain": []
     },
     "metadata": {},
     "output_type": "display_data"
    }
   ],
   "source": [
    "# cluster = coiled.Cluster(name=\"taxi-predict\", n_workers=10)\n",
    "from dask.distributed import Client\n",
    "cluster = coiled.Cluster(n_workers=10, software='cooperrc/xgboost-on-coiled')\n",
    "\n",
    "client = Client(cluster)"
   ]
  },
  {
   "cell_type": "markdown",
   "id": "878b5063-65d9-4eeb-9670-46d58632be9e",
   "metadata": {},
   "source": [
    "Once the cluster is created (you can see the status on your [Coiled dashboard](https://cloud.coiled.io/)), you can connect Dask to the cluster by creating a `distributed.Client` instance."
   ]
  },
  {
   "cell_type": "code",
   "execution_count": 4,
   "id": "9ab85ece-0e29-46be-a2b2-5e7132feb852",
   "metadata": {},
   "outputs": [
    {
     "data": {
      "text/html": [
       "<table style=\"border: 2px solid white;\">\n",
       "<tr>\n",
       "<td style=\"vertical-align: top; border: 0px solid white\">\n",
       "<h3 style=\"text-align: left;\">Client</h3>\n",
       "<ul style=\"text-align: left; list-style: none; margin: 0; padding: 0;\">\n",
       "  <li><b>Scheduler: </b>tls://ec2-100-26-42-77.compute-1.amazonaws.com:8786</li>\n",
       "  <li><b>Dashboard: </b><a href='http://ec2-100-26-42-77.compute-1.amazonaws.com:8787' target='_blank'>http://ec2-100-26-42-77.compute-1.amazonaws.com:8787</a></li>\n",
       "</ul>\n",
       "</td>\n",
       "<td style=\"vertical-align: top; border: 0px solid white\">\n",
       "<h3 style=\"text-align: left;\">Cluster</h3>\n",
       "<ul style=\"text-align: left; list-style:none; margin: 0; padding: 0;\">\n",
       "  <li><b>Workers: </b>10</li>\n",
       "  <li><b>Cores: </b>20</li>\n",
       "  <li><b>Memory: </b>80.00 GiB</li>\n",
       "</ul>\n",
       "</td>\n",
       "</tr>\n",
       "</table>"
      ],
      "text/plain": [
       "<Client: 'tls://10.3.115.80:8786' processes=10 threads=20, memory=80.00 GiB>"
      ]
     },
     "execution_count": 4,
     "metadata": {},
     "output_type": "execute_result"
    }
   ],
   "source": [
    "client"
   ]
  },
  {
   "cell_type": "markdown",
   "id": "56fb62a2-5e9a-49cd-994b-8f927fa91763",
   "metadata": {},
   "source": [
    "## Create data predictions in the cloud - Linear Regression\n",
    "\n",
    "Now that you have a cluster running and Dask connected to it, do some computations. This example will run the computations on about 84 million rows. You will create a prediction in 3 steps:\n",
    "\n",
    "1. create the Dask dataframe and select the independent variables\n",
    "2. partition the data into testing and training sets\n",
    "3. perform the linear regression using `mean()` and `compute()` \n",
    "\n",
    "### 1. Create the Dask dataframe\n",
    "\n",
    "Here, you load the data into a Dask dataframe from AWS. "
   ]
  },
  {
   "cell_type": "code",
   "execution_count": 5,
   "id": "46f15bca-7dc9-44db-8423-0293f4c20d87",
   "metadata": {},
   "outputs": [],
   "source": [
    "import dask.dataframe as dd\n",
    "\n",
    "taxi_full = dd.read_csv(\n",
    "    \"s3://nyc-tlc/trip data/yellow_tripdata_2019-*.csv\",\n",
    "    dtype={\n",
    "        \"payment_type\": \"float64\",\n",
    "        \"VendorID\": \"float64\",\n",
    "        \"passenger_count\": \"float64\",\n",
    "        \"RatecodeID\": \"float64\",\n",
    "    },\n",
    "    storage_options={\"anon\": True},\n",
    "    blocksize=\"16 MiB\",\n",
    ").persist()"
   ]
  },
  {
   "cell_type": "markdown",
   "id": "9fb71a18-39c5-47a1-ad3d-33a04aba8c16",
   "metadata": {},
   "source": [
    "Now, you can remove the data that you found was unnecessary in the previous notebook, [01_Create descriptive statistics for NYC Yellow Cab data set](./Create descriptive statistics for NYC Yellow Cab data set). Save the variable as `taxi_full_wtips`. "
   ]
  },
  {
   "cell_type": "code",
   "execution_count": 6,
   "id": "e26c1d95-fbcd-4a8b-ac49-b56c048ad0a8",
   "metadata": {},
   "outputs": [],
   "source": [
    "taxi_full_wtips = taxi_full[(taxi_full['tip_amount'] > 0) & \n",
    "                            (taxi_full['fare_amount'] > 0) & \n",
    "                            (taxi_full['trip_distance'] > 0)].persist()"
   ]
  },
  {
   "cell_type": "markdown",
   "id": "8bd41419-9c4d-414b-9ff2-0582fa955701",
   "metadata": {},
   "source": [
    "### 2. Partition the data into testing and training sets\n",
    "\n",
    "Load the `model_selection` library from Dask-ML. You will use this function to split the data into training and testing dataframes. The `X` variable holds all of the data except for `tip_amount`. The `y` variable is the `tip_amount`, your observations for predictions. "
   ]
  },
  {
   "cell_type": "code",
   "execution_count": 42,
   "id": "69d4704a-71bc-4565-abc7-63f40bc9e8a7",
   "metadata": {},
   "outputs": [],
   "source": [
    "import dask\n",
    "from dask_ml.model_selection import train_test_split\n",
    "\n",
    "X = taxi_full_wtips[['passenger_count', \n",
    "                            'trip_distance', \n",
    "                            'RatecodeID', \n",
    "                            'PULocationID', \n",
    "                            'DOLocationID', \n",
    "                            'payment_type', \n",
    "                            'fare_amount', \n",
    "                            'extra',  \n",
    "                            'tolls_amount', \n",
    "                            'total_amount']]\n",
    "\n",
    "y = taxi_full_wtips['tip_amount']\n",
    "\n",
    "X_train, X_test, y_train, y_test = train_test_split(X, y, test_size=0.2, shuffle = False)\n",
    "X_train, X_test, y_train, y_test = dask.persist(X_train, X_test, y_train, y_test)"
   ]
  },
  {
   "cell_type": "code",
   "execution_count": 43,
   "id": "9590c562-8e4d-49c1-83e3-a43c4b765b14",
   "metadata": {},
   "outputs": [
    {
     "data": {
      "text/plain": [
       "Index(['passenger_count', 'trip_distance', 'RatecodeID', 'PULocationID',\n",
       "       'DOLocationID', 'payment_type', 'fare_amount', 'extra', 'tolls_amount',\n",
       "       'total_amount'],\n",
       "      dtype='object')"
      ]
     },
     "execution_count": 43,
     "metadata": {},
     "output_type": "execute_result"
    }
   ],
   "source": [
    "X_train.columns"
   ]
  },
  {
   "cell_type": "code",
   "execution_count": 44,
   "id": "f21baa00-23ba-4e2c-886c-7fd9c91cf3f2",
   "metadata": {},
   "outputs": [],
   "source": [
    "x1, x2, y = X_train['fare_amount'], X_train['trip_distance'], y_train\n",
    "\n",
    "x1, x2, y = dask.persist(x1, x2, y)"
   ]
  },
  {
   "cell_type": "markdown",
   "id": "8579858b-032f-4d9a-b1c6-6dcee8664cd4",
   "metadata": {},
   "source": [
    "### 3. Perform the linear regression using `mean()` and `compute()` \n",
    "\n",
    "Linear regression minimizes the sum of squares error between a linear function of  dependent variables, \n",
    "\n",
    "$f(x_1,~x_2) = \\beta + \\alpha_1 x_1 + \\alpha_2 x_2$\n",
    "\n",
    "$\\min(\\sum|y - f(x_1,~x_2)|^2)$\n",
    "\n",
    "where\n",
    "- $\\beta = offset$\n",
    "- $x_1 = fare~amount$\n",
    "- $x_2 = trip~distance$\n",
    "- $y_1 = tip~amount$\n",
    "\n",
    "These equations reduce to a single linear algebra equation as such\n",
    "\n",
    "$\\mathbf{Z}^T\\mathbf{Z a} = \\mathbf{Z}^T\\mathbf{y}$\n",
    "\n",
    "$\\left[\\begin{array}\n",
    "~1 & \\sum x_1/N & \\sum x_2/N \\\\\n",
    "\\sum x_1/N & \\sum x_1^2/N & \\sum x_1x_2/N \\\\\n",
    "\\sum x_2/N &\\sum x_1 x_2/N & ~\\sum x_2^2/N \\end{array}\\right]$ = $\n",
    "\\left[\\begin{array}\n",
    "\\sum y/N\\\\\n",
    "\\sum x_1 y/N\\\\\n",
    "\\sum x_2 y/N\\\\\n",
    "\\end{array}\\right]$\n",
    "\n",
    "You can use the `mean().compute()` command to calculate this matrix-vector equation. The result is a $3 \\times 3$ array, `ZTZ`, and a vector of length 3, `ZTy`. \n",
    "\n",
    "\n"
   ]
  },
  {
   "cell_type": "code",
   "execution_count": 10,
   "id": "5d13392f-ad41-480c-9313-3912b7c5e4e9",
   "metadata": {},
   "outputs": [],
   "source": [
    "Sx1 = x1.mean().compute()\n",
    "Sx2 = x2.mean().compute()"
   ]
  },
  {
   "cell_type": "code",
   "execution_count": 11,
   "id": "7ef99a74-a107-4b31-803e-0e2fce43899a",
   "metadata": {},
   "outputs": [],
   "source": [
    "Sx1x2 = (x1*x2).mean().compute()\n",
    "Sx1x1 = (x1**2).mean().compute()\n",
    "Sx2x2 = (x2**2).mean().compute()"
   ]
  },
  {
   "cell_type": "code",
   "execution_count": 12,
   "id": "880e3ffd-b7f2-4f01-9052-0387af6b2937",
   "metadata": {},
   "outputs": [],
   "source": [
    "import numpy as np\n",
    "ZTZ = np.array([[1, Sx1, Sx2], \n",
    "                [Sx1, Sx1x1, Sx1x2],\n",
    "                [Sx2, Sx1x2, Sx2x2]])"
   ]
  },
  {
   "cell_type": "code",
   "execution_count": 13,
   "id": "8a9c35f6-ed32-4b46-93e1-e0c993083775",
   "metadata": {},
   "outputs": [],
   "source": [
    "Sy = y.mean().compute()\n",
    "Sx1y = (x1*y).mean().compute()\n",
    "Sx2y = (x2*y).mean().compute()\n"
   ]
  },
  {
   "cell_type": "markdown",
   "id": "b97b48e6-caed-46ea-a7ae-b65e1c601689",
   "metadata": {},
   "source": [
    "Now, you have the calculated each array value. You can solve the linear least square problem and calculate $[\\beta,~\\alpha_1,~\\alpha_2]$. "
   ]
  },
  {
   "cell_type": "code",
   "execution_count": 14,
   "id": "b014b560-257d-4806-a1c0-4a690e4c8ea9",
   "metadata": {},
   "outputs": [
    {
     "data": {
      "text/plain": [
       "array([0.6119274 , 0.176382  , 0.07317207])"
      ]
     },
     "execution_count": 14,
     "metadata": {},
     "output_type": "execute_result"
    }
   ],
   "source": [
    "ZTy = np.array([Sy, Sx1y, Sx2y])\n",
    "\n",
    "A = np.linalg.solve(ZTZ, ZTy)\n",
    "A"
   ]
  },
  {
   "cell_type": "markdown",
   "id": "1cc46def-2705-43e4-bcfb-f4aa2cfb520e",
   "metadata": {},
   "source": [
    "The result is that the predicted tip from this data set is:\n",
    "\n",
    "$tip = \\$0.61 + 0.18\\cdot (\\$total~fare) + 0.07\\frac{\\$}{mi}(trip~distance [mi])$\n",
    "\n",
    "You can use the subset of data from [0 - Exploring the NYC Yellow taxi data set](./00_explore-taxi.ipynb) to visually inspect the model. \n",
    "\n",
    "Import Matplotlib and Pandas. Then, apply the same filter to the data to remove 0's. "
   ]
  },
  {
   "cell_type": "code",
   "execution_count": 70,
   "id": "4fa33069-f87b-4957-a573-0fae57285366",
   "metadata": {},
   "outputs": [],
   "source": [
    "import matplotlib.pyplot as plt\n",
    "plt.style.use('fivethirtyeight')\n",
    "import pandas as pd\n",
    "taxi_subset = pd.read_csv('./yellow_tripdata_2019-01_0-end-by-1000.csv')\n",
    "taxi_subset = taxi_subset[(taxi_subset['tip_amount'] > 0) & \n",
    "                        (taxi_subset['fare_amount'] > 0) & \n",
    "                        (taxi_subset['trip_distance'] > 0)]"
   ]
  },
  {
   "cell_type": "markdown",
   "id": "4d633710-3f74-4a7b-9780-1e5be31082b0",
   "metadata": {},
   "source": [
    "Now, you can apply your data to the `taxi_subset` dataframe. You can directly plug in the equation from above as such \n",
    "\n",
    "`predicted_tip = A[0]+A[1]*taxi_subset['fare_amount']+A[2]*taxi_subset['trip_distance']`"
   ]
  },
  {
   "cell_type": "code",
   "execution_count": 75,
   "id": "d1108405-c2be-4e1c-b253-37ea08a77f52",
   "metadata": {},
   "outputs": [
    {
     "data": {
      "image/png": "[encoded data removed]",
      "text/plain": [
       "<Figure size 432x288 with 1 Axes>"
      ]
     },
     "metadata": {},
     "output_type": "display_data"
    }
   ],
   "source": [
    "plt.plot(taxi_subset['fare_amount'], taxi_subset['tip_amount'], \n",
    "         'bo', \n",
    "        label = 'measured data')\n",
    "plt.plot(taxi_subset['fare_amount'], \n",
    "         A[0]+A[1]*taxi_subset['fare_amount']+A[2]*taxi_subset['trip_distance'], \n",
    "         'rs', label = '2-parameter LSE')\n",
    "plt.legend()\n",
    "plt.xlabel('total fare ($)')\n",
    "plt.ylabel('tip ($)');"
   ]
  },
  {
   "cell_type": "markdown",
   "id": "09187b58-5bad-4c81-8896-dc0d04f94b48",
   "metadata": {},
   "source": [
    "### Mean squared error in 2-parameter model\n",
    "\n",
    "The model captures the overall trend between tips and fare amounts, but there is variation that was not captured by the model. Here, calculate the [mean squared error](https://en.wikipedia.org/wiki/Mean_squared_error) (MSE) to quantify the variance not captured by the current model\n",
    "\n",
    "$MSE = \\frac{\\sum_1^N (y_{test} - y_{predict})^2}{N} = \\frac{\\sum_1^N (y_{test} - \\$0.61 - 0.18\\cdot (\\$total~fare) - 0.07\\frac{\\$}{mi}(trip~distance [mi]))^2}{N}$"
   ]
  },
  {
   "cell_type": "code",
   "execution_count": 47,
   "id": "549faa05-fb99-4cc4-8471-e6c4d4e5247b",
   "metadata": {},
   "outputs": [
    {
     "data": {
      "text/plain": [
       "2.503489841743055"
      ]
     },
     "execution_count": 47,
     "metadata": {},
     "output_type": "execute_result"
    }
   ],
   "source": [
    "MSE = (1/len(y_test)*(y_test - A[0] - A[1]*X_test['fare_amount'] - A[2]*X_test['trip_distance'])**2).sum().compute()\n",
    "MSE"
   ]
  },
  {
   "cell_type": "markdown",
   "id": "8791953c-0431-4294-b118-d86d3850d04b",
   "metadata": {},
   "source": [
    "## Improving the model by including more measurements\n",
    "\n",
    "The current regression model only uses fare amount and trip distance to predict the taxi driver tip per trip. You can reduce the mean squared error (MSE) by including more measurements e.g. \n",
    "\n",
    "- `VendorID`: A code indicating the TPEP provider that provided the record.\n",
    "1= Creative Mobile Technologies, LLC; 2= VeriFone Inc.\n",
    "- `tpep_pickup_datetime`: The date and time when the meter was engaged.\n",
    "- `tpep_dropoff_datetime`: The date and time when the meter was disengaged.\n",
    "- `Passenger_count`: The number of passengers in the vehicle.\n",
    "This is a driver-entered value.\n",
    "- `Trip_distance`: The elapsed trip distance in miles reported by the taximeter.\n",
    "- `PULocationID`: TLC Taxi Zone in which the taximeter was engaged\n",
    "- `DOLocationID`: TLC Taxi Zone in which the taximeter was disengaged\n",
    "- `RateCodeID`: The final rate code in effect at the end of the trip.\n",
    "1= Standard rate\n",
    "2=JFK\n",
    "3=Newark\n",
    "4=Nassau or Westchester\n",
    "5=Negotiated fare\n",
    "6=Group ride\n",
    "- `Payment_type`: A numeric code signifying how the passenger paid for the trip.\n",
    "1= Credit card\n",
    "2= Cash\n",
    "3= No charge\n",
    "4= Dispute\n",
    "5= Unknown\n",
    "6= Voided trip\n",
    "- `Fare_amount`: The time-and-distance fare calculated by the meter.\n",
    "Extra Miscellaneous extras and surcharges. Currently, this only includes\n",
    "the $\\$0.50$ and $\\$1$ rush hour and overnight charges.\n",
    "- `Tolls_amount`: Total amount of all tolls paid in trip.\n",
    "- `Total_amount`: The total amount charged to passengers. Does not include cash tips.\n",
    "\n",
    "Here, you will use [XGBoost](https://xgboost.readthedocs.io/en/latest/index.html) to complete a regression analysis. \n",
    "1. train the model with the training data set\n",
    "2. plot the predicted response on the subset of data\n",
    "3. calculate the mean squared error for XGBoost test data\n",
    "\n"
   ]
  },
  {
   "cell_type": "code",
   "execution_count": 49,
   "id": "899ef58f-7a38-4117-a6f3-d4448200eb2c",
   "metadata": {},
   "outputs": [],
   "source": [
    "import xgboost as xgb\n",
    "dtrain = xgb.dask.DaskDMatrix(client, X_train, y_train)"
   ]
  },
  {
   "cell_type": "markdown",
   "id": "1aedb62c-f55c-4fa8-9523-5b7c24557997",
   "metadata": {},
   "source": [
    "### 1. Train the model\n",
    "\n",
    "Here, you use the Coiled `client` to train the model using 12 measurements described above. The `output` variable is the result of the [`xgboost.dask.train`](https://xgboost.readthedocs.io/en/latest/tutorials/dask.html#other-customization). Here, you will build a model with\n",
    "- regression and squared error loss `reg:squarederror`\n",
    "- the maximum tree depth of 6 `'max_depth': 6`\n",
    "- categorical data enabled `'enable_categorical': True`\n",
    "- 10 boosting rounds `num_boost_round=10`\n",
    "- training data set to `X_train` and `y_train` contained in the `dtrain` variable"
   ]
  },
  {
   "cell_type": "code",
   "execution_count": 77,
   "id": "2a5802c7-36b7-4463-9499-b848a0c61e84",
   "metadata": {},
   "outputs": [],
   "source": [
    "output = xgb.dask.train(\n",
    "    client=client,\n",
    "    params={\n",
    "        'objective': 'reg:squarederror',\n",
    "        'max_depth': 10,\n",
    "        'enable_categorical': True\n",
    "    },\n",
    "    dtrain=dtrain,\n",
    "    num_boost_round=10\n",
    "#     evals=[(dtrain, 'train')]\n",
    ")"
   ]
  },
  {
   "cell_type": "markdown",
   "id": "3b41368a-c21b-4927-839c-d590df30bd0b",
   "metadata": {},
   "source": [
    "### 2. Plot the predicted tips on a subset\n",
    "\n",
    "Now, the model has been trained with XGBoost. You can use the `taxi_subset` imported from `yellow_tripdata_2019-01_0-end-by-1000.csv` to plot a subset of the data. \n",
    "\n",
    "- convert the Pandas dataframe to a Dask dataframe with `dask.dataframe.from_pandas`\n",
    "- build the XGBoost Dask Matrix as above for the training data with `xgb.dask.DaskMatrix`"
   ]
  },
  {
   "cell_type": "code",
   "execution_count": 80,
   "id": "1229a605-c9ba-4a67-ba83-3a37649b418b",
   "metadata": {},
   "outputs": [],
   "source": [
    "from dask import dataframe as dd\n",
    "X_subset = dd.from_pandas(taxi_subset[['passenger_count', \n",
    "                            'trip_distance', \n",
    "                            'RatecodeID', \n",
    "                            'PULocationID', \n",
    "                            'DOLocationID', \n",
    "                            'payment_type', \n",
    "                            'fare_amount', \n",
    "                            'extra',  \n",
    "                            'tolls_amount', \n",
    "                            'total_amount']], npartitions = 1)\n",
    "y_subset = dd.from_pandas(taxi_subset['tip_amount'], npartitions = 1)\n",
    "dsubset = xgb.dask.DaskDMatrix(client, X_subset, y_subset)"
   ]
  },
  {
   "cell_type": "markdown",
   "id": "a193fe44-f63b-4d97-b44e-5d43f8578e2b",
   "metadata": {},
   "source": [
    "Now, you can use the Dask dataframe as input for the regression model using the `xgb.dask.predict` as such"
   ]
  },
  {
   "cell_type": "code",
   "execution_count": 81,
   "id": "42bd17c2-0d2c-4de3-b5fe-8dadfff26a40",
   "metadata": {},
   "outputs": [],
   "source": [
    "y_subset_predict = xgb.dask.predict(client, output['booster'], dsubset)"
   ]
  },
  {
   "cell_type": "markdown",
   "id": "e45e0eb4-1c7a-4057-86c5-3685530b8520",
   "metadata": {},
   "source": [
    "Finally, you can plot the results. Here, you can compare the 2-parameter regression model to the 12-parameter XGBoost model. You capture much more of the variation in the tips with the new model"
   ]
  },
  {
   "cell_type": "code",
   "execution_count": 82,
   "id": "8dbf7ad9-eb69-4d30-b7da-e92ef00e8a2f",
   "metadata": {},
   "outputs": [
    {
     "data": {
      "image/png": "[encoded data removed]",
      "text/plain": [
       "<Figure size 432x288 with 1 Axes>"
      ]
     },
     "metadata": {},
     "output_type": "display_data"
    }
   ],
   "source": [
    "plt.plot(X_subset['fare_amount'].compute(), y_subset.compute(), \n",
    "         'o', \n",
    "        label = 'measured data')\n",
    "plt.plot(taxi_subset['fare_amount'], \n",
    "         A[0]+A[1]*taxi_subset['fare_amount']+A[2]*taxi_subset['trip_distance'], \n",
    "         'rs', label = '2-parameter LSE')\n",
    "plt.plot(X_subset['fare_amount'].compute(), y_subset_predict.compute(), \n",
    "         'k*', label = 'XGBoost model')\n",
    "plt.legend()\n",
    "plt.xlabel('total fare ($)')\n",
    "plt.ylabel('tip ($)');\n"
   ]
  },
  {
   "cell_type": "markdown",
   "id": "e4ed70e8-1ac7-4078-98ec-df81fd944cb7",
   "metadata": {},
   "source": [
    "### 3. Calculate the MSE for the XGBoost model \n",
    "\n",
    "The 2-parameter LSE model had $MSE = (\\$)^2 2.5$. The 12-parameter XGBoost model should reduce this MSE. First, use the booster model to predict the tips using `xgb.dask.predict` on the `X_test` data. Then, compute the average `sum()` of the squared errors. "
   ]
  },
  {
   "cell_type": "code",
   "execution_count": 83,
   "id": "68afd41b-2f84-4224-bab2-7072b7b1be29",
   "metadata": {},
   "outputs": [],
   "source": [
    "prediction = xgb.dask.predict(client, output['booster'], X_test)\n",
    "MSE_w_xgb = (1/len(prediction)*(prediction - y_test)**2).sum().compute()"
   ]
  },
  {
   "cell_type": "code",
   "execution_count": 84,
   "id": "d34a2f2e-bed2-4483-9d31-011c5858aabb",
   "metadata": {},
   "outputs": [
    {
     "data": {
      "text/plain": [
       "1.910368403467699"
      ]
     },
     "execution_count": 84,
     "metadata": {},
     "output_type": "execute_result"
    }
   ],
   "source": [
    "MSE_w_xgb"
   ]
  },
  {
   "cell_type": "markdown",
   "id": "088a3f00-1457-446e-befa-547fc668c168",
   "metadata": {},
   "source": [
    "You reduced the MSE from $(\\$)^2 2.50\\rightarrow(\\$)^2 1.91$, congratulations! There are many other factors that can play an important role in the tips, but you built a model that can use the NYC Yellow Cab taxi data set to predict driver tips using distances, fares, passenger count, pickup and dropoff IDs, and toll amounts. You can play with the parameters to reduce the error in the test data"
   ]
  },
  {
   "cell_type": "markdown",
   "id": "8d8e3fe0-863f-4b37-bd8a-0599238bab67",
   "metadata": {},
   "source": [
    "## Wrapping up\n",
    "\n",
    "In this notebook, you created a prediction for taxi driver tips based upon over 84 million taxi rides in NYC. You \n",
    "\n",
    "- loaded the NYC Yellow Cab data set into Dask dataframe on a Coiled cluster\n",
    "- created a 2-parameter least squares error model using some `compute()` commands and linear algebra\n",
    "- created a 12-parameter XGBoost squared error regression model \n",
    "- reduced the mean squared error (MSE) going from 2-parameters to 12-parameters\n",
    "- plotted subsets of the NYC Yellow Cab taxi data set and the model predictions\n",
    "\n",
    "\n",
    "Next steps: go try Coiled and build some new models or try new data!"
   ]
  },
  {
   "cell_type": "code",
   "execution_count": 58,
   "id": "8cc98d51-f9e3-448b-8ef1-292d05cac203",
   "metadata": {},
   "outputs": [
    {
     "data": {
      "text/html": [
       "<pre style=\"white-space:pre;overflow-x:auto;line-height:normal;font-family:Menlo,'DejaVu Sans Mono',consolas,'Courier New',monospace\"><span style=\"color: #008000; text-decoration-color: #008000\">Cluster deleted successfully.</span>\n",
       "</pre>\n"
      ],
      "text/plain": [
       "\u001b[32mCluster deleted successfully.\u001b[0m\n"
      ]
     },
     "metadata": {},
     "output_type": "display_data"
    }
   ],
   "source": [
    "\n",
    "coiled.delete_cluster(name=\"taxi-predict\")\n",
    "client.close()"
   ]
  }
 ],
 "metadata": {
  "kernelspec": {
   "display_name": "Python 3",
   "language": "python",
   "name": "python3"
  },
  "language_info": {
   "codemirror_mode": {
    "name": "ipython",
    "version": 3
   },
   "file_extension": ".py",
   "mimetype": "text/x-python",
   "name": "python",
   "nbconvert_exporter": "python",
   "pygments_lexer": "ipython3",
   "version": "3.9.4"
  }
 },
 "nbformat": 4,
 "nbformat_minor": 5
}
